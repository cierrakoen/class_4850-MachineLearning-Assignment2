{
  "nbformat": 4,
  "nbformat_minor": 0,
  "metadata": {
    "colab": {
      "provenance": [],
      "include_colab_link": true
    },
    "kernelspec": {
      "name": "python3",
      "display_name": "Python 3"
    },
    "language_info": {
      "name": "python"
    }
  },
  "cells": [
    {
      "cell_type": "markdown",
      "metadata": {
        "id": "view-in-github",
        "colab_type": "text"
      },
      "source": [
        "<a href=\"https://colab.research.google.com/github/cierrakoen/class_4850-MachineLearning-Assignment2/blob/main/Copy_of_Assignment2_ML.ipynb\" target=\"_parent\"><img src=\"https://colab.research.google.com/assets/colab-badge.svg\" alt=\"Open In Colab\"/></a>"
      ]
    },
    {
      "cell_type": "markdown",
      "source": [
        "# CSC 4850 / 6850 / DSCI 4850 - Assisgment 2 - (350/400 points)\n",
        "\n",
        "**Total points (350 undergraduate / 400 graduate)**\n",
        "\n",
        "**Student Name: Cierra Koen**\n",
        "\n",
        "Undergraduate**\n",
        "\n",
        "## Instructions:\n",
        "\n",
        "You are to make a copy of this notebook on your own Google Drive (if you don't have one, get one, it is free), and use the exact format provided. Any code needs to go in the code cells, and any 'text' answer/description needs to go in the proper text cell. We will not be looking for answers randomly placed so please read the instructions.\n",
        "\n",
        "You are to use only the libraries provided in the next code cell. Any additional library is NOT allowed and will cause you to lose all the points that use said library's functions/functionality. You can use any functions given in the class code examples, but be very very careful of lifting anything \n",
        "'as-is' from the internet as it will be considerered plagiarism. \n",
        "\n",
        "**IMPORTANT: Make sure you use 1234 for your randomseed/random state. Failure to do so will make your answers not comparable to the answer key and you will get a zero on the whole assignment.**\n",
        "\n",
        "## Submission format:\n",
        "\n",
        "The submission for Assignment two will have two components:\n",
        "\n",
        "1) You are to create a PDF from the PRINT out of this notebook with all cells executed sequentially. It is the student's responsibility to be able to do this and no excuses will be accepted, no legible PDF = zero grade. So practice and test before submission time. This PDF should be named LastName_FirstName-Assignment2.PDF\n",
        "\n",
        "2) The student should create a GitHub repository for this assignment and properly title the repository Class_CODE-ClassName-AssignmentTwo. This repository should have a readme file and the Google Colab notebook in it. Note that colab can save a copy directly to GitHub so make sure you test this. Downloading the notebook file and uploading it directly will result in 200 points deduction. The link to your GitHub repository should be included as text/message in the iCollege submission drop, failure to include this link will result in a 100 point penalty. \n",
        "\n",
        "## Extra Credit for all:\n",
        "\n",
        "Any student can get 50 extra credit points by doing two simple things (you need to do BOTH):\n",
        "\n",
        "1) Make nice and pretty plots (only using the provided packages!)\n",
        "\n",
        "2) Make your GitHub repo professional (this includes your own landing page as well). Examples: https://github.com/abhisheknaiidu/awesome-github-profile-readme\n",
        "\n",
        "\n",
        "Remember that you will need a portfolio for your job search, and a professional looking repo will certainly impress recruiters/interviewers. So this is more of a favor to yourself! (yes, I follow this myself: https://github.com/jmbanda)\n"
      ],
      "metadata": {
        "id": "Uc3L9tKWVV4g"
      }
    },
    {
      "cell_type": "code",
      "execution_count": null,
      "metadata": {
        "id": "PjGD5VGFVS-s"
      },
      "outputs": [],
      "source": [
        "############## These are the only imports allowed to solve this homework, so make sure you do not add anything else down below\n",
        "\n",
        "%matplotlib inline\n",
        "\n",
        "import numpy as np\n",
        "import pandas as pd\n",
        "import sklearn\n",
        "import numpy as np\n",
        "import matplotlib.pyplot as plt\n",
        "import seaborn as sns; sns.set()\n"
      ]
    },
    {
      "cell_type": "markdown",
      "source": [
        "Using the Wine dataset from sklearn:"
      ],
      "metadata": {
        "id": "89_ilQegV-MS"
      }
    },
    {
      "cell_type": "code",
      "source": [
        "#get the wine dataset from sklearn and take a look at the description provided\n",
        "from sklearn import datasets\n",
        "wine = datasets.load_wine()\n"
      ],
      "metadata": {
        "id": "J_sakm7HV90A"
      },
      "execution_count": null,
      "outputs": []
    },
    {
      "cell_type": "markdown",
      "source": [
        "# Question 1 (10 points)\n",
        "\n",
        "What can you say about the dataset (use code to descirbe it)? any particular things of interest? Find at least two things that you find interesting."
      ],
      "metadata": {
        "id": "0TLvYCXVbHN9"
      }
    },
    {
      "cell_type": "code",
      "source": [
        "##### Code block for Question 1\n",
        "#properties\n",
        "print(f\"The different properties analyized within the wines is: {wine.feature_names}\\n\")\n",
        "\n",
        "#classes\n",
        "classSet = set(wine.target)\n",
        "classString = str(classSet)\n",
        "print(f\"There are {classString} different class outputs given by the dataset given by {wine.target_names} \\n\")\n",
        "\n",
        "#numOfParameters\n",
        "inst = 178\n",
        "attri = 13\n",
        "parameters = lambda x,y : x*y\n",
        "res = parameters(inst,attri)\n",
        "print(f\"There are {res} different parameters used\")"
      ],
      "metadata": {
        "id": "ZIxSrPxmbGYZ",
        "colab": {
          "base_uri": "https://localhost:8080/"
        },
        "outputId": "84b5c669-6b6f-43f4-b24d-300ef34978aa"
      },
      "execution_count": null,
      "outputs": [
        {
          "output_type": "stream",
          "name": "stdout",
          "text": [
            "The different properties analyized within the wines is: ['alcohol', 'malic_acid', 'ash', 'alcalinity_of_ash', 'magnesium', 'total_phenols', 'flavanoids', 'nonflavanoid_phenols', 'proanthocyanins', 'color_intensity', 'hue', 'od280/od315_of_diluted_wines', 'proline']\n",
            "\n",
            "There are {0, 1, 2} different class outputs given by the dataset given by ['class_0' 'class_1' 'class_2'] \n",
            "\n",
            "There are 2314 different parameters used\n"
          ]
        }
      ]
    },
    {
      "cell_type": "markdown",
      "source": [
        "Textual answer to question 1 goes here."
      ],
      "metadata": {
        "id": "Od1B4oGdbaSC"
      }
    },
    {
      "cell_type": "markdown",
      "source": [
        "# Question 2 (10 points)\n",
        "\n",
        "Remove class_2, so it becomes a binary problem now. Split the dataset into a testing and a training set using 65% of the data for training and the rest for testing. Use the built-in sklearn functionality for this, any other way will not be graded."
      ],
      "metadata": {
        "id": "Hl5dZFu7lDg5"
      }
    },
    {
      "cell_type": "code",
      "source": [
        "from sklearn.model_selection import train_test_split\n",
        "##### Code block for Question 2\n",
        "x = wine.data\n",
        "y = wine.target\n",
        "\n",
        "#removing 2 from each instance\n",
        "X = x[y != 2] #130 \n",
        "Y = y[y != 2] #0 & 1's\n",
        "\n",
        "#creating training and test data split\n",
        "X_train, X_test, y_train, y_test = train_test_split(X, Y, test_size=0.35, random_state=1234)\n"
      ],
      "metadata": {
        "id": "QDAUtNuAlUyI"
      },
      "execution_count": null,
      "outputs": []
    },
    {
      "cell_type": "code",
      "source": [],
      "metadata": {
        "id": "7A1aVphZ3RCl"
      },
      "execution_count": null,
      "outputs": []
    },
    {
      "cell_type": "markdown",
      "source": [
        "# Question 3 (30 points)\n",
        "\n",
        "Use the perceptron algorithm (with default settings and the correct seed) to build a model on the training set and report the model's accuracy."
      ],
      "metadata": {
        "id": "V6grDh8FlVtS"
      }
    },
    {
      "cell_type": "code",
      "source": [
        "##### Code block for Question 3\n",
        "from sklearn.linear_model import Perceptron\n",
        "\n",
        "new_model = Perceptron(random_state = 1234)\n",
        "\n",
        "new_model.fit(X_train, y_train)\n",
        "\n",
        "model_accuracy = new_model.score(X_test, y_test)\n",
        "\n",
        "print(model_accuracy)"
      ],
      "metadata": {
        "id": "OAmTADedkDN0",
        "colab": {
          "base_uri": "https://localhost:8080/"
        },
        "outputId": "4abd8ca8-4e9f-4549-fda8-fc10b71e3431"
      },
      "execution_count": null,
      "outputs": [
        {
          "output_type": "stream",
          "name": "stdout",
          "text": [
            "0.6739130434782609\n"
          ]
        }
      ]
    },
    {
      "cell_type": "markdown",
      "source": [
        "# Question 4 (20 points)\n",
        "\n",
        "Show the classification report for the built model. In the text cell, following the code block for question 4, descibe what findings can be infered from the classification report. Mention at least 3 observations."
      ],
      "metadata": {
        "id": "UDBERCfzkTIK"
      }
    },
    {
      "cell_type": "code",
      "source": [
        "##### Code block for Question 4\n",
        "from sklearn.metrics import classification_report\n",
        "\n",
        "prediction = new_model.predict(X_test)\n",
        "\n",
        "class_report1 = classification_report(y_test, prediction,output_dict=True)\n",
        "\n",
        "print(class_report1)\n"
      ],
      "metadata": {
        "id": "OlQED2C0kSQ-",
        "colab": {
          "base_uri": "https://localhost:8080/"
        },
        "outputId": "5f2fdbd9-04bf-4317-c8c8-1431b0b89fd3"
      },
      "execution_count": null,
      "outputs": [
        {
          "output_type": "stream",
          "name": "stdout",
          "text": [
            "{'0': {'precision': 1.0, 'recall': 0.21052631578947367, 'f1-score': 0.34782608695652173, 'support': 19}, '1': {'precision': 0.6428571428571429, 'recall': 1.0, 'f1-score': 0.782608695652174, 'support': 27}, 'accuracy': 0.6739130434782609, 'macro avg': {'precision': 0.8214285714285714, 'recall': 0.6052631578947368, 'f1-score': 0.5652173913043479, 'support': 46}, 'weighted avg': {'precision': 0.7903726708074535, 'recall': 0.6739130434782609, 'f1-score': 0.6030245746691871, 'support': 46}}\n"
          ]
        }
      ]
    },
    {
      "cell_type": "markdown",
      "source": [
        "Textual answer to question 4 goes here."
      ],
      "metadata": {
        "id": "axlGZ10EkumL"
      }
    },
    {
      "cell_type": "markdown",
      "source": [
        "\n",
        "\n",
        "1.   Based on the precision score of class 0, the model is very accurate in predictiong positives rather than class 1 which is less likely and may predict more false positives.  \n",
        "2.   The recall for class 0 is lower than class 1, meaning that class 0 can not identify positive cases more than class 1.\n",
        "3. However, the thing is that since there is such a vast difference between precision and recall the f1-score between each classes shows that class 1 can find postive cases while trying to minimize false positives making class 1 more reliable. \n",
        "\n"
      ],
      "metadata": {
        "id": "q6j5D1EBAHYo"
      }
    },
    {
      "cell_type": "markdown",
      "source": [
        "# Question 5 (30 points)\n",
        "\n",
        "Use the trained model to make predictions on the test set. Output AND plot the confusion matrix from the model's predictions. \n",
        "\n",
        "In the second code cell, plot side by side: On the left side, the test set and its labels (using features Alcohol as the X axis and Alcalinity of Ash as the Y axis) with each point colored depending its class label. On the right side, the actual predictions (use the same Alcohol as the X axis and Alcalinity of Ash as the Y axis) with each point colored depending on its class label."
      ],
      "metadata": {
        "id": "D5FbmbFolUE-"
      }
    },
    {
      "cell_type": "code",
      "source": [
        "##### Code block for Question 5 - part 1\n",
        "from sklearn.metrics import confusion_matrix\n",
        "import seaborn as sns; sns.set()\n",
        "\n",
        "\n",
        "cm = confusion_matrix(y_test, prediction,labels= new_model.classes_)\n",
        "\n",
        "sns.heatmap(cm, annot=True, fmt='d', cmap='jet')\n",
        "plt.xlabel('Predicted Label')\n",
        "plt.ylabel('True Label')\n",
        "plt.show()"
      ],
      "metadata": {
        "id": "7-wRvWY7mvJ4",
        "colab": {
          "base_uri": "https://localhost:8080/",
          "height": 285
        },
        "outputId": "031deafd-5b47-4a57-98b9-d6820137bc89"
      },
      "execution_count": null,
      "outputs": [
        {
          "output_type": "display_data",
          "data": {
            "text/plain": [
              "<Figure size 432x288 with 2 Axes>"
            ],
            "image/png": "[encoded data removed]"
          },
          "metadata": {}
        }
      ]
    },
    {
      "cell_type": "code",
      "source": [
        "##### Code block for Question 5 - part 2\n",
        "\n",
        "# indexes alchol and alcalinity_of_ash\n",
        "features = X_test[:, [0, 6]]  \n",
        "\n",
        "#labels of test and prediciton\n",
        "test_label = y_test\n",
        "pred_label = prediction\n",
        "\n",
        "# left side\n",
        "plt.subplot(121)\n",
        "plt.scatter(features[:, 0], features[:, 1], c=test_label,cmap='jet')\n",
        "plt.xlabel('Alcohol')\n",
        "plt.ylabel('Alcalinity of Ash')\n",
        "plt.title('Test Set')\n",
        "\n",
        "# right side\n",
        "plt.subplot(122)\n",
        "plt.scatter(features[:, 0], features[:, 1], c=pred_label, cmap='jet')\n",
        "plt.xlabel('Alcohol')\n",
        "plt.ylabel('Alcalinity of Ash')\n",
        "plt.title('Actual Predictions')\n",
        "\n",
        "\n",
        "plt.colorbar(cmap='jet')\n",
        "plt.show()\n",
        "\n",
        "\n"
      ],
      "metadata": {
        "id": "y-pa14x0myPD",
        "colab": {
          "base_uri": "https://localhost:8080/",
          "height": 301
        },
        "outputId": "e3163913-ed6c-44a1-e6a5-b4c675b5fc8b"
      },
      "execution_count": null,
      "outputs": [
        {
          "output_type": "display_data",
          "data": {
            "text/plain": [
              "<Figure size 432x288 with 3 Axes>"
            ],
            "image/png": "[encoded data removed]"
          },
          "metadata": {}
        }
      ]
    },
    {
      "cell_type": "markdown",
      "source": [
        "# Question 6 (10 points) \n",
        "\n",
        "a) Do the plot right plot on Question 5 - part 2 match the confusion matrix of part 1?\n",
        "\n",
        "b) Any interesting observations from the predictions and the model performance? (write at least 2)"
      ],
      "metadata": {
        "id": "d0uKcXIWm2gZ"
      }
    },
    {
      "cell_type": "markdown",
      "source": [
        "Textual answer to question 6 a goes here."
      ],
      "metadata": {
        "id": "fUv67lIDnQVt"
      }
    },
    {
      "cell_type": "markdown",
      "source": [
        "No because there are 27 true dots and 4 flase trues of predicted values but does not show any false positives."
      ],
      "metadata": {
        "id": "OjZGgmZUYIbT"
      }
    },
    {
      "cell_type": "markdown",
      "source": [
        "Textual answer to question 6 b goes here."
      ],
      "metadata": {
        "id": "vekeBSBBnS8d"
      }
    },
    {
      "cell_type": "markdown",
      "source": [
        "1. Based on the models performance the model predicts more positive perdictions than the test set.\n",
        "2. This also means more negative results are seen as true"
      ],
      "metadata": {
        "id": "_yiLfgQhYZKB"
      }
    },
    {
      "cell_type": "markdown",
      "source": [
        "# Question 7 (10 points)\n",
        "\n",
        "Reload the Wine dataset and split the dataset into a testing and a training set using 65% of the data for training and the rest for testing. Use the built-in sklearn functionality for this, any other way will not be graded."
      ],
      "metadata": {
        "id": "5FAvUA_LptZA"
      }
    },
    {
      "cell_type": "code",
      "source": [
        "##### Code block for Question 7\n",
        "\n",
        "#data and target arrays\n",
        "X2 = wine.data\n",
        "Y2 = wine.target\n",
        "\n",
        "#finding test data\n",
        "X2_train, X2_test, y2_train, y2_test = train_test_split(X2, Y2, test_size=0.35, random_state=1234)"
      ],
      "metadata": {
        "id": "OVEa6yRHpsVp"
      },
      "execution_count": null,
      "outputs": []
    },
    {
      "cell_type": "markdown",
      "source": [
        "# Question 8 (30 points)\n",
        "\n",
        "Use the Decision Tree algorithm (with default settings and the correct seed) to build a model on the training set and report the model's accuracy."
      ],
      "metadata": {
        "id": "7GCTkGwOqFP7"
      }
    },
    {
      "cell_type": "code",
      "source": [
        "##### Code block for Question 8\n",
        "from sklearn import tree\n",
        "from sklearn import metrics\n",
        "\n",
        "# using Decision tree\n",
        "d_model = tree.DecisionTreeClassifier()\n",
        "# training model\n",
        "d_model.fit(X2_train,y2_train)\n",
        "#y hat prediction\n",
        "prediction2 = d_model.predict(X2_test)\n",
        "#accuracy\n",
        "print(\"Accuracy: \",metrics.accuracy_score(y2_test, prediction2))"
      ],
      "metadata": {
        "id": "io8-k2M-prgl",
        "colab": {
          "base_uri": "https://localhost:8080/"
        },
        "outputId": "0b8695ca-8d69-405f-c557-ceaae96239b4"
      },
      "execution_count": null,
      "outputs": [
        {
          "output_type": "stream",
          "name": "stdout",
          "text": [
            "Accuracy:  0.8571428571428571\n"
          ]
        }
      ]
    },
    {
      "cell_type": "markdown",
      "source": [
        "# Question 9 (20 points)\n",
        "\n",
        "Show the classification report for the built model. In the text cell, following the code block for question 9, descibe what findings can be infered from the classification report. Mention at least 3 observations."
      ],
      "metadata": {
        "id": "3VYbQk6ZqsjC"
      }
    },
    {
      "cell_type": "code",
      "source": [
        "##### Code block for Question 9\n",
        "class_report2 = classification_report(y2_test, prediction2,output_dict=True)\n",
        "\n",
        "print(class_report2)"
      ],
      "metadata": {
        "id": "qRZWpYIBq0aA",
        "colab": {
          "base_uri": "https://localhost:8080/"
        },
        "outputId": "165c3a2e-d3c0-4e10-a3e0-bcf678e0a861"
      },
      "execution_count": null,
      "outputs": [
        {
          "output_type": "stream",
          "name": "stdout",
          "text": [
            "{'0': {'precision': 0.9375, 'recall': 0.7894736842105263, 'f1-score': 0.8571428571428572, 'support': 19}, '1': {'precision': 0.8148148148148148, 'recall': 0.8461538461538461, 'f1-score': 0.830188679245283, 'support': 26}, '2': {'precision': 0.85, 'recall': 0.9444444444444444, 'f1-score': 0.8947368421052632, 'support': 18}, 'accuracy': 0.8571428571428571, 'macro avg': {'precision': 0.8674382716049384, 'recall': 0.860023991602939, 'f1-score': 0.8606894594978011, 'support': 63}, 'weighted avg': {'precision': 0.8618680188124632, 'recall': 0.8571428571428571, 'f1-score': 0.856760049269625, 'support': 63}}\n"
          ]
        }
      ]
    },
    {
      "cell_type": "markdown",
      "source": [
        "Textual answer to question 9 goes here."
      ],
      "metadata": {
        "id": "HeH9Cdnzq1QF"
      }
    },
    {
      "cell_type": "markdown",
      "source": [
        "1. One thing I have noticed is that the f1 score has increased for all categories most likely because we are now categorizing every class. \n",
        "2. I also noticed that that the recall for class 2 is now 1 when before class one had a recall of 1 because we added the last class\n",
        "3. I also noticed that class 1 loses one data point.  "
      ],
      "metadata": {
        "id": "P-opmraLgBPO"
      }
    },
    {
      "cell_type": "markdown",
      "source": [
        "# Question 10 (30 points)\n",
        "\n",
        "Use the trained model to make predictions on the test set. Output AND plot the confusion matrix from the model's predictions. \n",
        "\n",
        "In the second code cell, plot side by side: On the left side, the test set and its labels (using features Alcohol as the X axis and Alcalinity of Ash as the Y axis) with each point colored depending its class label. On the right side, the actual predictions (use the same Alcohol as the X axis and Alcalinity of Ash as the Y axis) with each point colored depending on its class label."
      ],
      "metadata": {
        "id": "CIqq_7v0rIhB"
      }
    },
    {
      "cell_type": "code",
      "source": [
        "##### Code block for Question 10 - part 1\n",
        "from sklearn.metrics import confusion_matrix\n",
        "import seaborn as sns; sns.set()\n",
        "\n",
        "\n",
        "cm = confusion_matrix(y2_test, prediction2,labels= d_model.classes_)\n",
        "\n",
        "sns.heatmap(cm, annot=True, fmt='d', cmap='jet')\n",
        "plt.xlabel('Predicted Label')\n",
        "plt.ylabel('True Label')\n",
        "plt.show()"
      ],
      "metadata": {
        "id": "GFT8khVUrQ_2",
        "colab": {
          "base_uri": "https://localhost:8080/",
          "height": 285
        },
        "outputId": "9c7e7c07-8d25-45f2-aab8-b85f15af1168"
      },
      "execution_count": null,
      "outputs": [
        {
          "output_type": "display_data",
          "data": {
            "text/plain": [
              "<Figure size 432x288 with 2 Axes>"
            ],
            "image/png": "[encoded data removed]"
          },
          "metadata": {}
        }
      ]
    },
    {
      "cell_type": "code",
      "source": [
        "##### Code block for Question 10 - part 2\n",
        "\n",
        "# indexes alchol and alcalinity_of_ash\n",
        "features = X2_test[:, [0, 6]]  \n",
        "\n",
        "#labels of test and prediciton\n",
        "test_label = y2_test\n",
        "pred_label = prediction2\n",
        "\n",
        "# left side\n",
        "plt.subplot(121)\n",
        "plt.scatter(features[:, 0], features[:, 1], c=test_label,cmap='jet')\n",
        "plt.xlabel('Alcohol')\n",
        "plt.ylabel('Alcalinity of Ash')\n",
        "plt.title('Test Set')\n",
        "\n",
        "# right side\n",
        "plt.subplot(122)\n",
        "plt.scatter(features[:, 0], features[:, 1], c=pred_label, cmap='jet')\n",
        "plt.xlabel('Alcohol')\n",
        "plt.ylabel('Alcalinity of Ash')\n",
        "plt.title('Actual Predictions')\n",
        "\n",
        "\n",
        "plt.colorbar(cmap='jet')\n",
        "plt.show()"
      ],
      "metadata": {
        "id": "Zoh1vJDArQ_3",
        "colab": {
          "base_uri": "https://localhost:8080/",
          "height": 301
        },
        "outputId": "8069121d-054d-460f-de93-aea22e80b614"
      },
      "execution_count": null,
      "outputs": [
        {
          "output_type": "display_data",
          "data": {
            "text/plain": [
              "<Figure size 432x288 with 3 Axes>"
            ],
            "image/png": "[encoded data removed]"
          },
          "metadata": {}
        }
      ]
    },
    {
      "cell_type": "markdown",
      "source": [
        "# Question 11 (30 points) \n",
        "\n",
        "a) Do the plot right plot on Question 10 - part 2 match the confusion matrix of part 1?\n",
        "\n",
        "b) Any interesting observations from the predictions and the model performance? (write at least 2)\n",
        "\n",
        "c) Plot the figure from question 10 - part 2 using the `visualize_classifier` function given during the class example from 2/20/2023."
      ],
      "metadata": {
        "id": "MoOX9SsqrY1m"
      }
    },
    {
      "cell_type": "markdown",
      "source": [
        "Textual answer to question 11 a goes here."
      ],
      "metadata": {
        "id": "qDsw0eoyrY1n"
      }
    },
    {
      "cell_type": "markdown",
      "source": [
        "Yes because the new plots on the graph change the few points that are predicted on the confusuion matrix. \n",
        "\n"
      ],
      "metadata": {
        "id": "FFJ1C3U1ivFJ"
      }
    },
    {
      "cell_type": "markdown",
      "source": [
        "Textual answer to question 11 b goes here."
      ],
      "metadata": {
        "id": "5CBnH3bQrY1o"
      }
    },
    {
      "cell_type": "markdown",
      "source": [
        "1. The most interesting observation is that the prediction is very close to the test data showing that our model is predicting more accuratly. \n",
        "2. The two model plots almost look excatly the same with all 3 class representations."
      ],
      "metadata": {
        "id": "j5GwYxTakVsf"
      }
    },
    {
      "cell_type": "code",
      "source": [
        "##### Code block for Question 11 - part c\n",
        "%matplotlib inline\n",
        "import numpy as np\n",
        "import matplotlib.pyplot as plt\n",
        "import seaborn as sns; sns.set()\n",
        "from sklearn.tree import DecisionTreeClassifier\n",
        "X2_2 = wine.data[:, :2]\n",
        "Y2_2 = wine.target\n",
        "\n",
        "\n",
        "X2_2train, X2_2test, y2_2train, y2_2test = train_test_split(X2_2, Y2_2, test_size=0.35, random_state=1234)\n",
        "\n",
        "tree1 = DecisionTreeClassifier().fit(X2_2train,y2_2train)\n",
        "\n",
        "\n",
        "def visualize_classifier(model, X, y, ax=None, cmap='rainbow'):\n",
        "    ax = ax or plt.gca()\n",
        "    \n",
        "    # Plot the training points\n",
        "    ax.scatter(X[:, 0], X[:, 1], c=y, s=30, cmap=cmap,\n",
        "               clim=(y.min(), y.max()), zorder=3)\n",
        "    ax.axis('tight')\n",
        "    ax.axis('off')\n",
        "    xlim = ax.get_xlim()\n",
        "    ylim = ax.get_ylim()\n",
        "    \n",
        "    # fit the estimator\n",
        "    model.fit(X, y)\n",
        "    xx, yy = np.meshgrid(np.linspace(*xlim, num=200),\n",
        "                         np.linspace(*ylim, num=200))\n",
        "    Z = model.predict(np.c_[xx.ravel(), yy.ravel()]).reshape(xx.shape)\n",
        "\n",
        "    # Create a color plot with the results\n",
        "    n_classes = len(np.unique(y))\n",
        "    contours = ax.contourf(xx, yy, Z, alpha=0.3,\n",
        "                           levels=np.arange(n_classes + 1) - 0.5,\n",
        "                           cmap=cmap, clim=(y.min(), y.max()),\n",
        "                           zorder=1)\n",
        "\n",
        "    ax.set(xlim=xlim, ylim=ylim)\n",
        "\n",
        "visualize_classifier(tree1, X2_2train, y2_2train)\n"
      ],
      "metadata": {
        "id": "JU01ze5mryO5",
        "colab": {
          "base_uri": "https://localhost:8080/",
          "height": 283
        },
        "outputId": "79bc4c9c-af40-48a1-cccf-f6b0a4e80aae"
      },
      "execution_count": 216,
      "outputs": [
        {
          "output_type": "stream",
          "name": "stderr",
          "text": [
            "<ipython-input-216-7c9a0f512a6e>:35: UserWarning: The following kwargs were not used by contour: 'clim'\n",
            "  contours = ax.contourf(xx, yy, Z, alpha=0.3,\n"
          ]
        },
        {
          "output_type": "display_data",
          "data": {
            "text/plain": [
              "<Figure size 432x288 with 1 Axes>"
            ],
            "image/png": "[encoded data removed]"
          },
          "metadata": {}
        }
      ]
    },
    {
      "cell_type": "markdown",
      "source": [],
      "metadata": {
        "id": "yKEF725M99sI"
      }
    },
    {
      "cell_type": "markdown",
      "source": [
        "# Question 12 (10 points)\n",
        "\n",
        "Reload the Wine dataset and split the dataset into a testing and a training set using 65% of the data for training and the rest for testing. Use the built-in sklearn functionality for this, any other way will not be graded."
      ],
      "metadata": {
        "id": "VyZzK3XpsBgd"
      }
    },
    {
      "cell_type": "code",
      "source": [
        "##### Code block for Question 12\n",
        "\n",
        "#data and target arrays\n",
        "X3 = wine.data\n",
        "Y3= wine.target\n",
        "\n",
        "#finding test data\n",
        "X3_train, X3_test, y3_train, y3_test = train_test_split(X3, Y3, test_size=0.35, random_state=1234)\n"
      ],
      "metadata": {
        "id": "hGTZs31MsBge"
      },
      "execution_count": null,
      "outputs": []
    },
    {
      "cell_type": "markdown",
      "source": [
        "# Question 13 (30 points)\n",
        "\n",
        "Use the Logistic Regression (with as this is a multi-class problem, use the **One Vs Rest algorithm** we must use `liblinear` solver and the correct seed) to build a model on the training set and report the model's accuracy."
      ],
      "metadata": {
        "id": "FTWIgD0rsBge"
      }
    },
    {
      "cell_type": "code",
      "source": [
        "##### Code block for Question 13\n",
        "from sklearn.linear_model import LogisticRegression\n",
        "\n",
        "lr = LogisticRegression(random_state = 1234, multi_class=\"ovr\", solver=\"liblinear\")\n",
        "\n",
        "lr.fit(X3_train, y3_train)\n",
        "\n",
        "prediction3 = lr.predict(X3_test)\n",
        "\n",
        "#accuracy\n",
        "print(\"Accuracy: \",metrics.accuracy_score(y3_test, prediction3))"
      ],
      "metadata": {
        "id": "7uu_vP4OsBgf",
        "colab": {
          "base_uri": "https://localhost:8080/"
        },
        "outputId": "7f6ff46d-bb0e-4180-8a53-c149cda10cce"
      },
      "execution_count": null,
      "outputs": [
        {
          "output_type": "stream",
          "name": "stdout",
          "text": [
            "Accuracy:  0.9523809523809523\n"
          ]
        }
      ]
    },
    {
      "cell_type": "markdown",
      "source": [
        "# Question 14 (20 points)\n",
        "\n",
        "Show the classification report for the built model. In the text cell, following the code block for question 14, descibe what findings can be infered from the classification report. Mention at least 3 observations."
      ],
      "metadata": {
        "id": "nU8SRq6TsBgf"
      }
    },
    {
      "cell_type": "code",
      "source": [
        "##### Code block for Question 14\n",
        "class_report3 = classification_report(y3_test, prediction3,output_dict=True)\n",
        "\n",
        "print(class_report3)"
      ],
      "metadata": {
        "id": "pXIQ7hO6sBgf",
        "colab": {
          "base_uri": "https://localhost:8080/"
        },
        "outputId": "c56ab851-e8a3-446f-bd45-f299f4aec255"
      },
      "execution_count": null,
      "outputs": [
        {
          "output_type": "stream",
          "name": "stdout",
          "text": [
            "{'0': {'precision': 1.0, 'recall': 0.9473684210526315, 'f1-score': 0.972972972972973, 'support': 19}, '1': {'precision': 0.96, 'recall': 0.9230769230769231, 'f1-score': 0.9411764705882353, 'support': 26}, '2': {'precision': 0.9, 'recall': 1.0, 'f1-score': 0.9473684210526316, 'support': 18}, 'accuracy': 0.9523809523809523, 'macro avg': {'precision': 0.9533333333333333, 'recall': 0.9568151147098516, 'f1-score': 0.9538392882046134, 'support': 63}, 'weighted avg': {'precision': 0.9549206349206348, 'recall': 0.9523809523809523, 'f1-score': 0.9525350206464757, 'support': 63}}\n"
          ]
        }
      ]
    },
    {
      "cell_type": "markdown",
      "source": [
        "Textual answer to question 14 goes here."
      ],
      "metadata": {
        "id": "LVep3OJ1sBgf"
      }
    },
    {
      "cell_type": "markdown",
      "source": [
        "1. I noticed that this is the highest f1-score between the other methods showing that this method is more successful in comming up with correct positive assumptions. \n",
        "2. Another thing is that the precision for class 0 has gone up by a few thousands rather to now equal 1. \n",
        "3.Precision  also becomes better for class 2 by .1 but does not affect the f1 score."
      ],
      "metadata": {
        "id": "kYJ2z4YD5iL7"
      }
    },
    {
      "cell_type": "markdown",
      "source": [
        "# Question 15 (30 points)\n",
        "\n",
        "Use the trained model to make predictions on the test set. Output AND plot the confusion matrix from the model's predictions. \n",
        "\n",
        "In the second code cell, plot side by side: On the left side, the test set and its labels (using features Alcohol as the X axis and Alcalinity of Ash as the Y axis) with each point colored depending its class label. On the right side, the actual predictions (use the same Alcohol as the X axis and Alcalinity of Ash as the Y axis) with each point colored depending on its class label."
      ],
      "metadata": {
        "id": "1DQxkgAbsBgg"
      }
    },
    {
      "cell_type": "code",
      "source": [
        "##### Code block for Question 15 - part 1\n",
        "from sklearn.metrics import confusion_matrix\n",
        "import seaborn as sns; sns.set()\n",
        "\n",
        "\n",
        "cm = confusion_matrix(y3_test, prediction3,labels= lr.classes_)\n",
        "\n",
        "sns.heatmap(cm, annot=True, fmt='d', cmap='jet')\n",
        "plt.xlabel('Predicted Label')\n",
        "plt.ylabel('True Label')\n",
        "plt.show()"
      ],
      "metadata": {
        "id": "l9A4AifNsBgg",
        "colab": {
          "base_uri": "https://localhost:8080/",
          "height": 285
        },
        "outputId": "03b8c329-76d4-4c88-f994-514c273622de"
      },
      "execution_count": null,
      "outputs": [
        {
          "output_type": "display_data",
          "data": {
            "text/plain": [
              "<Figure size 432x288 with 2 Axes>"
            ],
            "image/png": "[encoded data removed]"
          },
          "metadata": {}
        }
      ]
    },
    {
      "cell_type": "code",
      "source": [
        "##### Code block for Question 15 - part 2\n",
        "# indexes alchol and alcalinity_of_ash\n",
        "features = X3_test[:, [0, 6]]  \n",
        "\n",
        "#labels of test and prediciton\n",
        "test_label = y3_test\n",
        "pred_label = prediction3\n",
        "\n",
        "# left side\n",
        "plt.subplot(121)\n",
        "plt.scatter(features[:, 0], features[:, 1], c=test_label,cmap='jet')\n",
        "plt.xlabel('Alcohol')\n",
        "plt.ylabel('Alcalinity of Ash')\n",
        "plt.title('Test Set')\n",
        "\n",
        "# right side\n",
        "plt.subplot(122)\n",
        "plt.scatter(features[:, 0], features[:, 1], c=pred_label, cmap='jet')\n",
        "plt.xlabel('Alcohol')\n",
        "plt.ylabel('Alcalinity of Ash')\n",
        "plt.title('Actual Predictions')\n",
        "\n",
        "\n",
        "plt.colorbar(cmap='jet')\n",
        "plt.show()"
      ],
      "metadata": {
        "id": "wF7X9vnGsBgg",
        "colab": {
          "base_uri": "https://localhost:8080/",
          "height": 301
        },
        "outputId": "683c3525-9638-4d20-c872-967bd04a8efb"
      },
      "execution_count": null,
      "outputs": [
        {
          "output_type": "display_data",
          "data": {
            "text/plain": [
              "<Figure size 432x288 with 3 Axes>"
            ],
            "image/png": "[encoded data removed]"
          },
          "metadata": {}
        }
      ]
    },
    {
      "cell_type": "markdown",
      "source": [
        "# Question 16 (20 points) \n",
        "\n",
        "a) Do the plot right plot on Question 15 - part 2 match the confusion matrix of part 1?\n",
        "\n",
        "b) Any interesting observations from the predictions and the model performance? (write at least 2)"
      ],
      "metadata": {
        "id": "7Fh0OKRzsBgh"
      }
    },
    {
      "cell_type": "markdown",
      "source": [
        "Textual answer to question 16 a goes here."
      ],
      "metadata": {
        "id": "67skrMZwsBgh"
      }
    },
    {
      "cell_type": "markdown",
      "source": [
        "Yes because there are only three different changes that happen to the actual predicitons which is reflectd within the matrix.\n"
      ],
      "metadata": {
        "id": "BlBz3_rxyEMt"
      }
    },
    {
      "cell_type": "markdown",
      "source": [
        "Textual answer to question 16 b goes here."
      ],
      "metadata": {
        "id": "bWus1xG9sBgh"
      }
    },
    {
      "cell_type": "markdown",
      "source": [
        "1. I notice that the model is even more correct in terms of prediction.\n",
        "2. It seems that there is better clustering in terms of each class which will make it easier to have seperators around our data. "
      ],
      "metadata": {
        "id": "AreWb2hO0MQq"
      }
    },
    {
      "cell_type": "markdown",
      "source": [
        "# Question 17 (10 points)\n",
        "\n",
        "Create AND display dataframe containing in each row the accruacy, precision, recall for each of the models built. \n",
        "\n",
        "In the textual answer cell, discuss which one is the best performing model and why?"
      ],
      "metadata": {
        "id": "W888Kt2Btame"
      }
    },
    {
      "cell_type": "code",
      "source": [
        "##### Code block for Question 17\n",
        "\n",
        "# importing the module\n",
        "import pandas as pd\n",
        "  \n",
        "# creating a DataFrame\n",
        "dict = {'Preceptron' : class_report1,\n",
        "        'Decision Tree' : class_report2,\n",
        "        'LinearRegression' : class_report3}\n",
        "        \n",
        "df = pd.DataFrame(dict)\n",
        "  \n",
        "# displaying the DataFrame\n",
        "df.style"
      ],
      "metadata": {
        "id": "WdrGJIy3tZlc",
        "colab": {
          "base_uri": "https://localhost:8080/",
          "height": 376
        },
        "outputId": "5f1fdd95-3cf6-40db-d040-2055ea8cc0f3"
      },
      "execution_count": null,
      "outputs": [
        {
          "output_type": "execute_result",
          "data": {
            "text/plain": [
              "<pandas.io.formats.style.Styler at 0x7f4cb7251a30>"
            ],
            "text/html": [
              "<style type=\"text/css\">\n",
              "</style>\n",
              "<table id=\"T_2de08_\" class=\"dataframe\">\n",
              "  <thead>\n",
              "    <tr>\n",
              "      <th class=\"blank level0\" >&nbsp;</th>\n",
              "      <th class=\"col_heading level0 col0\" >Preceptron</th>\n",
              "      <th class=\"col_heading level0 col1\" >Decision Tree</th>\n",
              "      <th class=\"col_heading level0 col2\" >LinearRegression</th>\n",
              "    </tr>\n",
              "  </thead>\n",
              "  <tbody>\n",
              "    <tr>\n",
              "      <th id=\"T_2de08_level0_row0\" class=\"row_heading level0 row0\" >0</th>\n",
              "      <td id=\"T_2de08_row0_col0\" class=\"data row0 col0\" >{'precision': 1.0, 'recall': 0.21052631578947367, 'f1-score': 0.34782608695652173, 'support': 19}</td>\n",
              "      <td id=\"T_2de08_row0_col1\" class=\"data row0 col1\" >{'precision': 0.9375, 'recall': 0.7894736842105263, 'f1-score': 0.8571428571428572, 'support': 19}</td>\n",
              "      <td id=\"T_2de08_row0_col2\" class=\"data row0 col2\" >{'precision': 1.0, 'recall': 0.9473684210526315, 'f1-score': 0.972972972972973, 'support': 19}</td>\n",
              "    </tr>\n",
              "    <tr>\n",
              "      <th id=\"T_2de08_level0_row1\" class=\"row_heading level0 row1\" >1</th>\n",
              "      <td id=\"T_2de08_row1_col0\" class=\"data row1 col0\" >{'precision': 0.6428571428571429, 'recall': 1.0, 'f1-score': 0.782608695652174, 'support': 27}</td>\n",
              "      <td id=\"T_2de08_row1_col1\" class=\"data row1 col1\" >{'precision': 0.8148148148148148, 'recall': 0.8461538461538461, 'f1-score': 0.830188679245283, 'support': 26}</td>\n",
              "      <td id=\"T_2de08_row1_col2\" class=\"data row1 col2\" >{'precision': 0.96, 'recall': 0.9230769230769231, 'f1-score': 0.9411764705882353, 'support': 26}</td>\n",
              "    </tr>\n",
              "    <tr>\n",
              "      <th id=\"T_2de08_level0_row2\" class=\"row_heading level0 row2\" >accuracy</th>\n",
              "      <td id=\"T_2de08_row2_col0\" class=\"data row2 col0\" >0.673913</td>\n",
              "      <td id=\"T_2de08_row2_col1\" class=\"data row2 col1\" >0.857143</td>\n",
              "      <td id=\"T_2de08_row2_col2\" class=\"data row2 col2\" >0.952381</td>\n",
              "    </tr>\n",
              "    <tr>\n",
              "      <th id=\"T_2de08_level0_row3\" class=\"row_heading level0 row3\" >macro avg</th>\n",
              "      <td id=\"T_2de08_row3_col0\" class=\"data row3 col0\" >{'precision': 0.8214285714285714, 'recall': 0.6052631578947368, 'f1-score': 0.5652173913043479, 'support': 46}</td>\n",
              "      <td id=\"T_2de08_row3_col1\" class=\"data row3 col1\" >{'precision': 0.8674382716049384, 'recall': 0.860023991602939, 'f1-score': 0.8606894594978011, 'support': 63}</td>\n",
              "      <td id=\"T_2de08_row3_col2\" class=\"data row3 col2\" >{'precision': 0.9533333333333333, 'recall': 0.9568151147098516, 'f1-score': 0.9538392882046134, 'support': 63}</td>\n",
              "    </tr>\n",
              "    <tr>\n",
              "      <th id=\"T_2de08_level0_row4\" class=\"row_heading level0 row4\" >weighted avg</th>\n",
              "      <td id=\"T_2de08_row4_col0\" class=\"data row4 col0\" >{'precision': 0.7903726708074535, 'recall': 0.6739130434782609, 'f1-score': 0.6030245746691871, 'support': 46}</td>\n",
              "      <td id=\"T_2de08_row4_col1\" class=\"data row4 col1\" >{'precision': 0.8618680188124632, 'recall': 0.8571428571428571, 'f1-score': 0.856760049269625, 'support': 63}</td>\n",
              "      <td id=\"T_2de08_row4_col2\" class=\"data row4 col2\" >{'precision': 0.9549206349206348, 'recall': 0.9523809523809523, 'f1-score': 0.9525350206464757, 'support': 63}</td>\n",
              "    </tr>\n",
              "    <tr>\n",
              "      <th id=\"T_2de08_level0_row5\" class=\"row_heading level0 row5\" >2</th>\n",
              "      <td id=\"T_2de08_row5_col0\" class=\"data row5 col0\" >nan</td>\n",
              "      <td id=\"T_2de08_row5_col1\" class=\"data row5 col1\" >{'precision': 0.85, 'recall': 0.9444444444444444, 'f1-score': 0.8947368421052632, 'support': 18}</td>\n",
              "      <td id=\"T_2de08_row5_col2\" class=\"data row5 col2\" >{'precision': 0.9, 'recall': 1.0, 'f1-score': 0.9473684210526316, 'support': 18}</td>\n",
              "    </tr>\n",
              "  </tbody>\n",
              "</table>\n"
            ]
          },
          "metadata": {},
          "execution_count": 196
        }
      ]
    },
    {
      "cell_type": "markdown",
      "source": [
        "Textual answer to question 17 goes here."
      ],
      "metadata": {
        "id": "VEnK8F_Lt5V8"
      }
    },
    {
      "cell_type": "markdown",
      "source": [
        "Linear Regression is the best model because it is more efficent in finding linear classifications because the regression model assumses the correct values based on the relationship between variables and predictions."
      ],
      "metadata": {
        "id": "Iab79wrT6nPc"
      }
    },
    {
      "cell_type": "markdown",
      "source": [
        "# Graduate Student Question: (50 points)\n",
        "\n",
        "Modify the `visualize_classifier` function provided during the 2/20/2023 class to be able to work in 3 dimensions (currently only works in two dimensions). Take the Decision Tree classifier model from Question 8 and plot the separation of the classes using the following axes: (Alcohol as the X axis and Alcalinity of Ash as the Y axis, and Ash as the Z axis).\n"
      ],
      "metadata": {
        "id": "ziqaH6VEuBJK"
      }
    },
    {
      "cell_type": "code",
      "source": [
        "##### Code block for Graduate Student Question"
      ],
      "metadata": {
        "id": "a17SE-ZcuALz"
      },
      "execution_count": null,
      "outputs": []
    }
  ]
}
